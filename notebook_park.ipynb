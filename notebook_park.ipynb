{
 "cells": [
  {
   "cell_type": "code",
   "execution_count": 1,
   "id": "186a505e",
   "metadata": {},
   "outputs": [],
   "source": [
    "from pyspark.sql import SparkSession\n",
    "from pyspark.sql.types import *\n",
    "from pyspark.sql.functions import *\n"
   ]
  },
  {
   "cell_type": "code",
   "execution_count": 2,
   "id": "3e9dd40a",
   "metadata": {},
   "outputs": [],
   "source": [
    "spark = SparkSession \\\n",
    "    .builder \\\n",
    "    .appName(\"Projet Spark\") \\\n",
    "    .config(\"spark.some.config.option\", \"some-value\") \\\n",
    "    .getOrCreate()\n"
   ]
  },
  {
   "cell_type": "code",
   "execution_count": 3,
   "id": "b06160d0",
   "metadata": {},
   "outputs": [],
   "source": [
    "schema1 = StructType([StructField('Invoice_ID', StringType(), True),\n",
    "                      StructField('Branch', StringType(), True),\n",
    "                      StructField('City', StringType(), True),\n",
    "                      StructField('Customer_type', StringType(), True),\n",
    "                      StructField('Gender', StringType(), True),\n",
    "                      StructField('Product_line', StringType(), True),\n",
    "                      StructField('Unit_price', DoubleType(), True),\n",
    "                      StructField('Quantity', DoubleType(), True),\n",
    "                      StructField('Tax', DoubleType(), True),\n",
    "                      StructField('Total', DoubleType(), True),\n",
    "                      StructField('Date', StringType(), True),\n",
    "                      StructField('Time', StringType(), True),\n",
    "                      StructField('Payment', StringType(), True),\n",
    "                      StructField('cogs', DoubleType(), True),\n",
    "                      StructField('gross_margin_percentage', DoubleType(), True),\n",
    "                      StructField('gross_income', DoubleType(), True),\n",
    "                      StructField('Rating', DoubleType(), True),  \n",
    "])"
   ]
  },
  {
   "cell_type": "code",
   "execution_count": 4,
   "id": "db0119e2",
   "metadata": {},
   "outputs": [],
   "source": [
    "sales = spark.read.format('csv')\\\n",
    "                        .schema(schema1)\\\n",
    "                        .option('header', True)\\\n",
    "                        .option(\"delimiter\",\",\")\\\n",
    "                        .load(r'supermarket_sales.csv')\n",
    "        "
   ]
  },
  {
   "cell_type": "code",
   "execution_count": 39,
   "id": "01a062d4",
   "metadata": {},
   "outputs": [],
   "source": [
    "sales = sales.withColumn(\"month_day\",concat_ws(\"-\",split(sales[\"Date\"], '/').getItem(0), split(sales[\"Date\"], '/').getItem(1)))\\\n",
    "            .withColumn(\"month\",concat_ws(\"-\",split(sales[\"Date\"], '/').getItem(0)))"
   ]
  },
  {
   "cell_type": "code",
   "execution_count": 6,
   "id": "6bee8b6a",
   "metadata": {},
   "outputs": [],
   "source": [
    "liste_dates = sales.select(\"month_day\").distinct().collect()"
   ]
  },
  {
   "cell_type": "code",
   "execution_count": null,
   "id": "0a2ddcae",
   "metadata": {},
   "outputs": [],
   "source": [
    "for i in liste_dates:\n",
    "    df_day = sales.filter(sales.month_day == i[\"month_day\"])\n",
    "    ppath = 'sales_dates//'+i[\"month_day\"]+'.csv'\n",
    "    df_day.show()\n",
    "    \n",
    "    df_day.repartition(1).write\\\n",
    "            .mode(\"overwrite\")\\\n",
    "            .format(\"csv\")\\\n",
    "            .option(\"header\",\"true\")\\\n",
    "            .save('sales_dates//'+i[\"month_day\"]+'.csv')"
   ]
  },
  {
   "cell_type": "code",
   "execution_count": 40,
   "id": "bd7d293b",
   "metadata": {},
   "outputs": [],
   "source": [
    "schema2 = StructType([StructField('Invoice_ID', StringType(), True),\n",
    "                      StructField('Branch', StringType(), True),\n",
    "                      StructField('City', StringType(), True),\n",
    "                      StructField('Customer_type', StringType(), True),\n",
    "                      StructField('Gender', StringType(), True),\n",
    "                      StructField('Product_line', StringType(), True),\n",
    "                      StructField('Unit_price', DoubleType(), True),\n",
    "                      StructField('Quantity', DoubleType(), True),\n",
    "                      StructField('Tax', DoubleType(), True),\n",
    "                      StructField('Total', DoubleType(), True),\n",
    "                      StructField('Date', StringType(), True),\n",
    "                      StructField('Time', StringType(), True),\n",
    "                      StructField('Payment', StringType(), True),\n",
    "                      StructField('cogs', DoubleType(), True),\n",
    "                      StructField('gross_margin_percentage', DoubleType(), True),\n",
    "                      StructField('gross_income', DoubleType(), True),\n",
    "                      StructField('Rating', DoubleType(), True),  \n",
    "                      StructField('month_day', StringType(), True),\n",
    "                      StructField('month', StringType(), True)\n",
    "])"
   ]
  },
  {
   "cell_type": "code",
   "execution_count": 41,
   "id": "eb716c3c",
   "metadata": {},
   "outputs": [],
   "source": [
    "sales_streaming = spark.readStream.format('csv')\\\n",
    "    .schema(schema2)\\\n",
    "    .option(\"recursiveFileLookup\",\"true\")\\\n",
    "    .option(\"header\",\"true\")\\\n",
    "    .csv(\"sales_dates/*.csv\")"
   ]
  },
  {
   "cell_type": "code",
   "execution_count": 42,
   "id": "24417d93",
   "metadata": {},
   "outputs": [
    {
     "name": "stdout",
     "output_type": "stream",
     "text": [
      "spark is streaming  True\n"
     ]
    }
   ],
   "source": [
    "print(\"spark is streaming \" , sales_streaming.isStreaming)"
   ]
  },
  {
   "cell_type": "code",
   "execution_count": 43,
   "id": "50049c76",
   "metadata": {},
   "outputs": [],
   "source": [
    "nb_magasins_branche_Mandalay = sales_streaming.filter(sales_streaming.City == \"Mandalay\").groupBy(\"Branch\").count()"
   ]
  },
  {
   "cell_type": "code",
   "execution_count": 44,
   "id": "678b40d0",
   "metadata": {},
   "outputs": [],
   "source": [
    "query_magasin_branche_Mandalay = nb_magasins_branche_Mandalay.writeStream\\\n",
    "  .outputMode(\"complete\")\\\n",
    "  .format(\"console\")\\\n",
    "  .start()\n"
   ]
  },
  {
   "cell_type": "code",
   "execution_count": 13,
   "id": "51230871",
   "metadata": {},
   "outputs": [
    {
     "name": "stdout",
     "output_type": "stream",
     "text": [
      "Le nombre de magasins par branche : \n"
     ]
    }
   ],
   "source": [
    "print(\"Le nombre de magasins par branche : \")"
   ]
  },
  {
   "cell_type": "code",
   "execution_count": 14,
   "id": "55045565",
   "metadata": {},
   "outputs": [],
   "source": [
    "nb_magasins_branche = sales_streaming.groupBy(\"Branch\").count()\n",
    "\n",
    "query_magasin_branche = nb_magasins_branche.writeStream\\\n",
    "  .outputMode(\"complete\")\\\n",
    "  .format(\"console\")\\\n",
    "  .start()\n"
   ]
  },
  {
   "cell_type": "code",
   "execution_count": 15,
   "id": "93e41b93",
   "metadata": {},
   "outputs": [
    {
     "name": "stdout",
     "output_type": "stream",
     "text": [
      "Pourcentage des clients membres / non membres : \n"
     ]
    }
   ],
   "source": [
    "print(\"Pourcentage des clients membres / non membres : \")"
   ]
  },
  {
   "cell_type": "code",
   "execution_count": 28,
   "id": "e9c4ac66",
   "metadata": {},
   "outputs": [],
   "source": [
    "membre_pourcentage = sales_streaming.groupBy(\"Customer_type\").count().withColumn(\"pourcentage\", col(\"count\")/1000)\n",
    "query_membership = membre_pourcentage.writeStream\\\n",
    "  .outputMode(\"complete\")\\\n",
    "  .format(\"console\")\\\n",
    "  .start()\n"
   ]
  },
  {
   "cell_type": "code",
   "execution_count": 26,
   "id": "8a991817",
   "metadata": {},
   "outputs": [
    {
     "name": "stdout",
     "output_type": "stream",
     "text": [
      "Pourcentage des clients hommes / femmes : \n"
     ]
    }
   ],
   "source": [
    "print(\"Pourcentage des clients hommes / femmes : \")"
   ]
  },
  {
   "cell_type": "code",
   "execution_count": 30,
   "id": "b118ecbe",
   "metadata": {},
   "outputs": [],
   "source": [
    "gender_pourcentage = sales_streaming.groupBy(\"Gender\").count().withColumn(\"pourcentage\", col(\"count\")/1000)\n",
    "query_membership = gender_pourcentage.writeStream\\\n",
    "  .outputMode(\"complete\")\\\n",
    "  .format(\"console\")\\\n",
    "  .start()"
   ]
  },
  {
   "cell_type": "code",
   "execution_count": 32,
   "id": "2a031476",
   "metadata": {},
   "outputs": [
    {
     "name": "stdout",
     "output_type": "stream",
     "text": [
      "Prix moyen HT/des taxes/TTC : \n"
     ]
    }
   ],
   "source": [
    "print(\"Prix moyen HT/des taxes/TTC : \")"
   ]
  },
  {
   "cell_type": "code",
   "execution_count": 35,
   "id": "e83612de",
   "metadata": {},
   "outputs": [],
   "source": [
    "prix_moyen = sales_streaming.selectExpr(\n",
    "            \"round(avg(Quantity * Unit_price), 2) AS HT_average\",\n",
    "            \"round(avg(Tax), 2) AS Tax_average\",\n",
    "            \"round(avg(Total),2) AS TTC_average\"\n",
    "            )\n",
    "query_prix = prix_moyen.writeStream\\\n",
    "  .outputMode(\"complete\")\\\n",
    "  .format(\"console\")\\\n",
    "  .start()"
   ]
  },
  {
   "cell_type": "code",
   "execution_count": null,
   "id": "314b633f",
   "metadata": {},
   "outputs": [],
   "source": [
    "print(\"moyene gross_income par jour :\")"
   ]
  },
  {
   "cell_type": "code",
   "execution_count": 55,
   "id": "4dc47b84",
   "metadata": {},
   "outputs": [],
   "source": [
    "income_date = sales_streaming.groupBy(\"month_day\").sum(\"gross_income\")\n",
    "query_income = income_date.writeStream\\\n",
    "  .outputMode(\"complete\")\\\n",
    "  .format(\"console\")\\\n",
    "  .start()"
   ]
  },
  {
   "cell_type": "code",
   "execution_count": null,
   "id": "acc87b5c",
   "metadata": {},
   "outputs": [],
   "source": [
    "print(\"Moyenne rating par mois : \")"
   ]
  },
  {
   "cell_type": "code",
   "execution_count": 52,
   "id": "2ed334eb",
   "metadata": {},
   "outputs": [],
   "source": [
    "rating_mois = sales_streaming.groupBy(\"month\").avg(\"Rating\")\n",
    "query_rating = rating_mois.writeStream\\\n",
    "  .outputMode(\"complete\")\\\n",
    "  .format(\"console\")\\\n",
    "  .start()"
   ]
  },
  {
   "cell_type": "code",
   "execution_count": null,
   "id": "6c191a54",
   "metadata": {},
   "outputs": [],
   "source": [
    "print(\"Top 10 des mois les plus rentables : \")"
   ]
  },
  {
   "cell_type": "code",
   "execution_count": 57,
   "id": "f94c687b",
   "metadata": {},
   "outputs": [],
   "source": [
    "top_10 = income_date.sort(col(\"sum(gross_income)\").desc())\n",
    "query_top_10 = top_10.writeStream\\\n",
    "  .outputMode(\"complete\")\\\n",
    "  .format(\"console\")\\\n",
    "  .start()"
   ]
  },
  {
   "cell_type": "code",
   "execution_count": null,
   "id": "92113073",
   "metadata": {},
   "outputs": [],
   "source": [
    "print(\"Répartition des achats par moyen de paiement\")"
   ]
  },
  {
   "cell_type": "code",
   "execution_count": 59,
   "id": "8a73cde9",
   "metadata": {},
   "outputs": [],
   "source": [
    "moyens_paiments = sales_streaming.groupBy(\"Payment\").sum(\"Total\")\n",
    "query_moyens_paiments = moyens_paiments.writeStream\\\n",
    "  .outputMode(\"complete\")\\\n",
    "  .format(\"console\")\\\n",
    "  .start()"
   ]
  }
 ],
 "metadata": {
  "kernelspec": {
   "display_name": "Python 3",
   "language": "python",
   "name": "python3"
  },
  "language_info": {
   "codemirror_mode": {
    "name": "ipython",
    "version": 3
   },
   "file_extension": ".py",
   "mimetype": "text/x-python",
   "name": "python",
   "nbconvert_exporter": "python",
   "pygments_lexer": "ipython3",
   "version": "3.8.8"
  }
 },
 "nbformat": 4,
 "nbformat_minor": 5
}
