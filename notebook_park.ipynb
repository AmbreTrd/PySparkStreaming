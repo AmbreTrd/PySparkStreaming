{
 "cells": [
  {
   "cell_type": "code",
   "execution_count": 10,
   "id": "186a505e",
   "metadata": {},
   "outputs": [],
   "source": [
    "from pyspark.sql import SparkSession\n",
    "from pyspark.sql.types import *\n",
    "from pyspark.sql.functions import *\n"
   ]
  },
  {
   "cell_type": "code",
   "execution_count": 11,
   "id": "3e9dd40a",
   "metadata": {},
   "outputs": [],
   "source": [
    "spark = SparkSession \\\n",
    "    .builder \\\n",
    "    .appName(\"Projet Spark\") \\\n",
    "    .config(\"spark.some.config.option\", \"some-value\") \\\n",
    "    .getOrCreate()\n"
   ]
  },
  {
   "cell_type": "code",
   "execution_count": 12,
   "id": "b06160d0",
   "metadata": {},
   "outputs": [],
   "source": [
    "schema1 = StructType([StructField('Invoice_ID', StringType(), True),\n",
    "                      StructField('Branch', StringType(), True),\n",
    "                      StructField('City', StringType(), True),\n",
    "                      StructField('Customer_type', StringType(), True),\n",
    "                      StructField('Gender', StringType(), True),\n",
    "                      StructField('Product_line', StringType(), True),\n",
    "                      StructField('Unit_price', DoubleType(), True),\n",
    "                      StructField('Quantity', DoubleType(), True),\n",
    "                      StructField('Tax', DoubleType(), True),\n",
    "                      StructField('Total', DoubleType(), True),\n",
    "                      StructField('Date', StringType(), True),\n",
    "                      StructField('Time', StringType(), True),\n",
    "                      StructField('Payment', StringType(), True),\n",
    "                      StructField('cogs', DoubleType(), True),\n",
    "                      StructField('gross_margin_percentage', DoubleType(), True),\n",
    "                      StructField('gross_income', DoubleType(), True),\n",
    "                      StructField('Rating', DoubleType(), True),  \n",
    "])"
   ]
  },
  {
   "cell_type": "code",
   "execution_count": 13,
   "id": "db0119e2",
   "metadata": {},
   "outputs": [],
   "source": [
    "sales = spark.read.format('csv')\\\n",
    "                        .schema(schema1)\\\n",
    "                        .option('header', True)\\\n",
    "                        .option(\"delimiter\",\",\")\\\n",
    "                        .load(r'supermarket_sales.csv')\n",
    "        "
   ]
  },
  {
   "cell_type": "code",
   "execution_count": 14,
   "id": "01a062d4",
   "metadata": {},
   "outputs": [],
   "source": [
    "sales = sales.withColumn(\"month_day\",concat_ws(\"-\",split(sales[\"Date\"], '/').getItem(0), split(sales[\"Date\"], '/').getItem(1)))"
   ]
  },
  {
   "cell_type": "code",
   "execution_count": 15,
   "id": "6bee8b6a",
   "metadata": {},
   "outputs": [],
   "source": [
    "liste_dates = sales.select(\"month_day\").distinct().collect()"
   ]
  },
  {
   "cell_type": "code",
   "execution_count": null,
   "id": "1272fecd",
   "metadata": {},
   "outputs": [],
   "source": [
    "for i in liste_dates:\n",
    "    df_day = sales.filter(sales.month_day == i[\"month_day\"])\n",
    "    ppath = 'sales_dates//'+i[\"month_day\"]+'.csv'\n",
    "    df_day.show()\n",
    "    \n",
    "    df_day.repartition(1).write\\\n",
    "            .mode(\"overwrite\")\\\n",
    "            .format(\"csv\")\\\n",
    "            .option(\"header\",\"true\")\\\n",
    "            .save('sales_dates//'+i[\"month_day\"]+'.csv')"
   ]
  },
  {
   "cell_type": "code",
   "execution_count": 16,
   "id": "7b914f8d",
   "metadata": {},
   "outputs": [],
   "source": [
    "schema2 = StructType([StructField('Invoice_ID', StringType(), True),\n",
    "                      StructField('Branch', StringType(), True),\n",
    "                      StructField('City', StringType(), True),\n",
    "                      StructField('Customer_type', StringType(), True),\n",
    "                      StructField('Gender', StringType(), True),\n",
    "                      StructField('Product_line', StringType(), True),\n",
    "                      StructField('Unit_price', DoubleType(), True),\n",
    "                      StructField('Quantity', DoubleType(), True),\n",
    "                      StructField('Tax', DoubleType(), True),\n",
    "                      StructField('Total', DoubleType(), True),\n",
    "                      StructField('Date', StringType(), True),\n",
    "                      StructField('Time', StringType(), True),\n",
    "                      StructField('Payment', StringType(), True),\n",
    "                      StructField('cogs', DoubleType(), True),\n",
    "                      StructField('gross_margin_percentage', DoubleType(), True),\n",
    "                      StructField('gross_income', DoubleType(), True),\n",
    "                      StructField('Rating', DoubleType(), True),  \n",
    "                      StructField('month_day', StringType(), True)\n",
    "])"
   ]
  },
  {
   "cell_type": "code",
   "execution_count": 17,
   "id": "eb716c3c",
   "metadata": {},
   "outputs": [],
   "source": [
    "sales_streaming = spark.readStream.format('csv')\\\n",
    "    .schema(schema2)\\\n",
    "    .option(\"recursiveFileLookup\",\"true\")\\\n",
    "    .option(\"header\",\"true\")\\\n",
    "    .csv(\"sales_dates/*.csv\")"
   ]
  },
  {
   "cell_type": "code",
   "execution_count": 18,
   "id": "24417d93",
   "metadata": {},
   "outputs": [
    {
     "name": "stdout",
     "output_type": "stream",
     "text": [
      "spark is streaming  True\n"
     ]
    }
   ],
   "source": [
    "print(\"spark is streaming \" , sales_streaming.isStreaming)"
   ]
  },
  {
   "cell_type": "code",
   "execution_count": null,
   "id": "50049c76",
   "metadata": {},
   "outputs": [],
   "source": []
  },
  {
   "cell_type": "code",
   "execution_count": null,
   "id": "678b40d0",
   "metadata": {},
   "outputs": [],
   "source": []
  }
 ],
 "metadata": {
  "kernelspec": {
   "display_name": "Python 3",
   "language": "python",
   "name": "python3"
  },
  "language_info": {
   "codemirror_mode": {
    "name": "ipython",
    "version": 3
   },
   "file_extension": ".py",
   "mimetype": "text/x-python",
   "name": "python",
   "nbconvert_exporter": "python",
   "pygments_lexer": "ipython3",
   "version": "3.8.8"
  }
 },
 "nbformat": 4,
 "nbformat_minor": 5
}
